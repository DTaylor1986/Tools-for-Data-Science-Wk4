{
 "cells": [
  {
   "cell_type": "markdown",
   "metadata": {},
   "source": [
    "<center>\n",
    "    <img src=\"https://cf-courses-data.s3.us.cloud-object-storage.appdomain.cloud/IBMDeveloperSkillsNetwork-DS0105EN-SkillsNetwork/labs/Module2/images/SN_web_lightmode.png\" width=\"300\" alt=\"cognitiveclass.ai logo\"  />\n",
    "</center>\n"
   ]
  },
  {
   "cell_type": "markdown",
   "metadata": {},
   "source": [
    "# My Jupyter Notebook on IBM Watson Studio\n"
   ]
  },
  {
   "cell_type": "markdown",
   "metadata": {},
   "source": [
    "My name is __Dan Taylor__.\n",
    "I would like to be a data scientist, ideally within the phatmaceutical industry, but I'm not too fussy."
   ]
  },
  {
   "cell_type": "markdown",
   "metadata": {},
   "source": [
    "_I'm intersted in data science because it is a blend of two of my interest, statistics and programming. It's also ideal for using with my prefered language, which is python._"
   ]
  },
  {
   "cell_type": "markdown",
   "metadata": {},
   "source": [
    "### Create a list of pets and print them out"
   ]
  },
  {
   "cell_type": "code",
   "execution_count": 1,
   "metadata": {},
   "outputs": [
    {
     "name": "stdout",
     "output_type": "stream",
     "text": [
      "Cats\n",
      "Dogs\n",
      "Rabbits\n",
      "Fish\n"
     ]
    }
   ],
   "source": [
    "pets = ['Cats', 'Dogs', 'Rabbits', 'Fish']\n",
    "for pet in pets:\n",
    "    print(pet)"
   ]
  },
  {
   "cell_type": "markdown",
   "metadata": {
    "tags": []
   },
   "source": [
    "Once again the list of ~people~ pets are:\n",
    "* Cats\n",
    "* Dogs\n",
    "* Rabbits\n",
    "* Fish\n",
    "\n",
    "-------\n",
    "\n",
    "### Some people like a table\n",
    "\n",
    "|Number | Pet |\n",
    "|-----|-----|\n",
    "| 1 | Cats |\n",
    "| 2 | Dogs |\n",
    "| 3 | Rabbits |\n",
    "| 4 | Fish |"
   ]
  }
 ],
 "metadata": {
  "kernelspec": {
   "display_name": "Python 3",
   "language": "python",
   "name": "python3"
  },
  "language_info": {
   "codemirror_mode": {
    "name": "ipython",
    "version": 3
   },
   "file_extension": ".py",
   "mimetype": "text/x-python",
   "name": "python",
   "nbconvert_exporter": "python",
   "pygments_lexer": "ipython3",
   "version": "3.6.9"
  }
 },
 "nbformat": 4,
 "nbformat_minor": 4
}
